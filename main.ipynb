{
 "cells": [
  {
   "cell_type": "code",
   "execution_count": 1,
   "metadata": {},
   "outputs": [],
   "source": [
    "import pandas as pd"
   ]
  },
  {
   "cell_type": "code",
   "execution_count": null,
   "metadata": {},
   "outputs": [],
   "source": [
    "# Load the Snowflake and Jturner CSV files\n",
    "# This is only data from period: 6/26/2023 - 7/31/2023 (the mismatch of data only apprears in this period)\n",
    "snowflake_df = pd.read_csv('Snowflake.csv')\n",
    "jturner_df = pd.read_csv('Jturner.csv')\n"
   ]
  },
  {
   "cell_type": "code",
   "execution_count": 6,
   "metadata": {},
   "outputs": [
    {
     "name": "stdout",
     "output_type": "stream",
     "text": [
      "Snowflake.csv - Total rows: 2165, Distinct rows: 1158, Duplicates: 1007\n",
      "Jturner.csv - Total rows: 1546, Distinct rows: 1546, Duplicates: 0\n"
     ]
    }
   ],
   "source": [
    "# Number of rows in each file\n",
    "snowflake_rows = len(snowflake_df)\n",
    "jturner_rows = len(jturner_df)\n",
    "\n",
    "# Number of distinct rows in each file\n",
    "snowflake_distinct = snowflake_df.drop_duplicates()\n",
    "jturner_distinct = jturner_df.drop_duplicates()\n",
    "\n",
    "# Number of duplicate rows in each file\n",
    "snowflake_duplicates = snowflake_rows - len(snowflake_distinct)\n",
    "jturner_duplicates = jturner_rows - len(jturner_distinct)\n",
    "\n",
    "# Print the results\n",
    "print(f\"Snowflake.csv - Total rows: {snowflake_rows}, Distinct rows: {len(snowflake_distinct)}, Duplicates: {snowflake_duplicates}\")\n",
    "print(f\"Jturner.csv - Total rows: {jturner_rows}, Distinct rows: {len(jturner_distinct)}, Duplicates: {jturner_duplicates}\")\n"
   ]
  },
  {
   "cell_type": "code",
   "execution_count": 11,
   "metadata": {},
   "outputs": [
    {
     "name": "stdout",
     "output_type": "stream",
     "text": [
      "Number of distinct matching rows: 1150\n"
     ]
    }
   ],
   "source": [
    "# Convert both columns to string type to avoid type mismatch errors\n",
    "snowflake_df['UNIQUE_RESPONSE_NUMBER'] = snowflake_df['UNIQUE_RESPONSE_NUMBER'].astype(str)\n",
    "jturner_df['Response ID'] = jturner_df['Response ID'].astype(str)\n",
    "\n",
    "# Find the matching rows from Snowflake that are in Jturner (distinct values only)\n",
    "matching_rows_snowflake = snowflake_df[snowflake_df['UNIQUE_RESPONSE_NUMBER'].isin(jturner_df['Response ID'])]\n",
    "\n",
    "# Drop duplicates to ensure only distinct matching rows are counted\n",
    "distinct_matching_snowflake = matching_rows_snowflake.drop_duplicates(subset='UNIQUE_RESPONSE_NUMBER')\n",
    "\n",
    "# Number of distinct matching rows\n",
    "matching_rows_count = len(distinct_matching_snowflake)\n",
    "\n",
    "# Print the result\n",
    "print(f\"Number of distinct matching rows: {matching_rows_count}\")\n"
   ]
  },
  {
   "cell_type": "code",
   "execution_count": 13,
   "metadata": {},
   "outputs": [
    {
     "name": "stdout",
     "output_type": "stream",
     "text": [
      "Number of unique rows in Snowflake (not in Jturner): 15\n",
      "Number of unique rows in Jturner (not in Snowflake): 396\n"
     ]
    }
   ],
   "source": [
    "# Unique rows in Snowflake (not in Jturner)\n",
    "snowflake_unique = snowflake_df[~snowflake_df['UNIQUE_RESPONSE_NUMBER'].isin(jturner_df['Response ID'])]\n",
    "\n",
    "# Unique rows in Jturner (not in Snowflake)\n",
    "jturner_unique = jturner_df[~jturner_df['Response ID'].isin(snowflake_df['UNIQUE_RESPONSE_NUMBER'])]\n",
    "\n",
    "# Number of unique rows in each file\n",
    "snowflake_unique_count = len(snowflake_unique)\n",
    "jturner_unique_count = len(jturner_unique)\n",
    "\n",
    "# Print the results\n",
    "print(f\"Number of unique rows in Snowflake (not in Jturner): {snowflake_unique_count}\")\n",
    "print(f\"Number of unique rows in Jturner (not in Snowflake): {jturner_unique_count}\")\n"
   ]
  },
  {
   "cell_type": "code",
   "execution_count": 20,
   "metadata": {},
   "outputs": [],
   "source": [
    "# This code would save the rows in Snowflake and Jturner (that are not found inside the other one) in new csv files\n",
    "\n",
    "# # Save the unique rows to CSV files\n",
    "# snowflake_unique.to_csv('unique_in_snowflake.csv', index=False)\n",
    "# jturner_unique.to_csv('unique_in_jturner.csv', index=False)\n",
    "\n",
    "# # Print the number of rows saved to ensure correct output\n",
    "# print(f\"Number of unique rows in Snowflake (not in Jturner): {snowflake_unique_count}\")\n",
    "# print(f\"Number of unique rows in Jturner (not in Snowflake): {jturner_unique_count}\")\n"
   ]
  },
  {
   "cell_type": "markdown",
   "metadata": {},
   "source": []
  },
  {
   "cell_type": "code",
   "execution_count": 22,
   "metadata": {},
   "outputs": [],
   "source": [
    "# Conclusion: since the distinct number of rows in Snowflake does not match the distinct number of rows in Jturner, the problem is not only duplicates, but more inaccuracies in the data."
   ]
  }
 ],
 "metadata": {
  "kernelspec": {
   "display_name": "Python 3",
   "language": "python",
   "name": "python3"
  },
  "language_info": {
   "codemirror_mode": {
    "name": "ipython",
    "version": 3
   },
   "file_extension": ".py",
   "mimetype": "text/x-python",
   "name": "python",
   "nbconvert_exporter": "python",
   "pygments_lexer": "ipython3",
   "version": "3.12.4"
  }
 },
 "nbformat": 4,
 "nbformat_minor": 2
}
